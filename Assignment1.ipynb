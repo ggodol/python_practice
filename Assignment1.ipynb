{
 "cells": [
  {
   "cell_type": "markdown",
   "metadata": {},
   "source": [
    "#Assignment 1"
   ]
  },
  {
   "cell_type": "markdown",
   "metadata": {},
   "source": [
    "---\n",
    "### a=\"Hello Python\" 문자열을 Slicing과 연결 연산자 (+)를 사용하여 \"Python Hello\"로 변경하시오.\n",
    "[주의] a 변수 자체에 \"Python Hello\" 문자열이 저장되어야 함"
   ]
  },
  {
   "cell_type": "code",
   "execution_count": 2,
   "metadata": {
    "collapsed": false
   },
   "outputs": [
    {
     "name": "stdout",
     "output_type": "stream",
     "text": [
      "Python Hello\n"
     ]
    }
   ],
   "source": [
    "a = \"Hello Python\"\n",
    "a = a[6:] + \" Hello\"\n",
    "print a"
   ]
  },
  {
   "cell_type": "markdown",
   "metadata": {},
   "source": [
    "---\n",
    "### b=\"Hello Python World\" 문자열을 Slicing과 연결 연산자 (+)를 사용하여 \"World Python Hello\"로 변경하시오.\n",
    "[주의] b 변수 자체에 \"Python Hello\" 문자열이 저장되어야 함"
   ]
  },
  {
   "cell_type": "code",
   "execution_count": 3,
   "metadata": {
    "collapsed": false
   },
   "outputs": [
    {
     "name": "stdout",
     "output_type": "stream",
     "text": [
      "World Python Hello\n"
     ]
    }
   ],
   "source": [
    "b = \"Hello Python World\"\n",
    "b = b[-5:] + \" Python Hello\"\n",
    "print b"
   ]
  },
  {
   "cell_type": "markdown",
   "metadata": {},
   "source": [
    "---\n",
    "### c=\"Hello\"를 \"olleH\"로 변경하시오\n",
    "[주의] c 변수 자체에 \"olleH\" 문자열이 저장되어야 함"
   ]
  },
  {
   "cell_type": "code",
   "execution_count": 4,
   "metadata": {
    "collapsed": false
   },
   "outputs": [
    {
     "name": "stdout",
     "output_type": "stream",
     "text": [
      "olleH\n"
     ]
    }
   ],
   "source": [
    "c = \"Hello\"\n",
    "c = c[::-1]\n",
    "print c"
   ]
  },
  {
   "cell_type": "markdown",
   "metadata": {},
   "source": [
    "---\n",
    "### s=\"python\"에 대해 다음 문제를 풀어보시오.\n",
    "####s[0], s[0][0], s[0][0][0]은 각각 어떤 값이 나오는지 확인하고 그 이유를 나름대로 설명해 보시오."
   ]
  },
  {
   "cell_type": "code",
   "execution_count": 5,
   "metadata": {
    "collapsed": false
   },
   "outputs": [
    {
     "name": "stdout",
     "output_type": "stream",
     "text": [
      "p p p\n"
     ]
    }
   ],
   "source": [
    "s = \"python\"\n",
    "print s[0], s[0][0], s[0][0][0]"
   ]
  },
  {
   "cell_type": "markdown",
   "metadata": {},
   "source": [
    "위에 코드로만으로는 왜 그런지 유추하기 어렵다. 그래서 다른 적당한 값을 넣어서 실행해보았다."
   ]
  },
  {
   "cell_type": "code",
   "execution_count": 5,
   "metadata": {
    "collapsed": false
   },
   "outputs": [
    {
     "name": "stdout",
     "output_type": "stream",
     "text": [
      "pyt\n",
      "py\n",
      "p\n"
     ]
    }
   ],
   "source": [
    "s = \"python\"\n",
    "print s[0:3]\n",
    "print s[0:3][0:2]\n",
    "print s[0:3][0:2][0]"
   ]
  },
  {
   "cell_type": "markdown",
   "metadata": {},
   "source": [
    "위에 코드를 실행하면 확실하게 이유를 알 수 있다. 처음 s[0:3]에서 s 문자열을 0번째부터 2번째까지 'pyt'를 인덱싱한다. s[0:3][0:2]를 출력한 결과를 보면, s[0:3]에서 인덱싱한 문자열 'pyt'에서 0번째부터 1번째까지 인덱싱 했음을 알 수있다. 이와 마찬가지로 생각해보면 s[0:3][0:2][0]이 p를 인덱싱함을 알 수 있다. 마찬가지 원리로 s[0]은 s문자열의 0번째 문자를 인덱싱하므로, p를 출력한다. s[0][0]은 s[0]이 인덱싱한 문자에서 0번째 문자열을 인덱싱하므로 p를 출력함을 알 수 있다. s[0][0][0]은 s[0][0]이 인덱싱한 문자열에서 0번째 문자를 인덱싱하므로 p를 출력한다.  "
   ]
  },
  {
   "cell_type": "markdown",
   "metadata": {},
   "source": [
    "---\n",
    "####s[-100], s[100]은 값이 나오는지 에러가 나오는지 확인하고 그 결과에 대한 이유를 나름대로 설명해 보시오."
   ]
  },
  {
   "cell_type": "code",
   "execution_count": 6,
   "metadata": {
    "collapsed": false
   },
   "outputs": [
    {
     "ename": "IndexError",
     "evalue": "string index out of range",
     "output_type": "error",
     "traceback": [
      "\u001b[1;31m---------------------------------------------------------------------------\u001b[0m",
      "\u001b[1;31mIndexError\u001b[0m                                Traceback (most recent call last)",
      "\u001b[1;32m<ipython-input-6-c97a097d1de0>\u001b[0m in \u001b[0;36m<module>\u001b[1;34m()\u001b[0m\n\u001b[0;32m      1\u001b[0m \u001b[0ms\u001b[0m \u001b[1;33m=\u001b[0m \u001b[1;34m\"python\"\u001b[0m\u001b[1;33m\u001b[0m\u001b[0m\n\u001b[1;32m----> 2\u001b[1;33m \u001b[1;32mprint\u001b[0m \u001b[0ms\u001b[0m\u001b[1;33m[\u001b[0m\u001b[1;33m-\u001b[0m\u001b[1;36m100\u001b[0m\u001b[1;33m]\u001b[0m\u001b[1;33m,\u001b[0m \u001b[0ms\u001b[0m\u001b[1;33m[\u001b[0m\u001b[1;36m100\u001b[0m\u001b[1;33m]\u001b[0m\u001b[1;33m\u001b[0m\u001b[0m\n\u001b[0m",
      "\u001b[1;31mIndexError\u001b[0m: string index out of range"
     ]
    }
   ],
   "source": [
    "s = \"python\"\n",
    "print s[-100], s[100]"
   ]
  },
  {
   "cell_type": "markdown",
   "metadata": {},
   "source": [
    "에러가 발생한다. IndexError 내용을 보면 에러의 이유를 쉽게 알 수 있다. 말그래도 문자열의 인덱스 범위를 벗어났다. s 문자열은 s[0]~s[5]까지 인덱싱 한다. -를 이용한 인덱싱은 s[-1]~s[-6]까지 문자열을 인덱싱한다. 이 범위를 벗어나면 문자를 인덱싱하지 않기때문에 에러가 발생하는 것이다."
   ]
  },
  {
   "cell_type": "markdown",
   "metadata": {},
   "source": [
    "---\n",
    "####s[-100, 100]은 값이 나오는지 에러가 나오는지 확인하고 그 결과에 대한 이유를 나름대로 설명해 보시오."
   ]
  },
  {
   "cell_type": "code",
   "execution_count": 7,
   "metadata": {
    "collapsed": false
   },
   "outputs": [
    {
     "ename": "TypeError",
     "evalue": "string indices must be integers, not tuple",
     "output_type": "error",
     "traceback": [
      "\u001b[1;31m---------------------------------------------------------------------------\u001b[0m",
      "\u001b[1;31mTypeError\u001b[0m                                 Traceback (most recent call last)",
      "\u001b[1;32m<ipython-input-7-bba26eacd08e>\u001b[0m in \u001b[0;36m<module>\u001b[1;34m()\u001b[0m\n\u001b[0;32m      1\u001b[0m \u001b[0ms\u001b[0m \u001b[1;33m=\u001b[0m \u001b[1;34m\"python\"\u001b[0m\u001b[1;33m\u001b[0m\u001b[0m\n\u001b[1;32m----> 2\u001b[1;33m \u001b[1;32mprint\u001b[0m \u001b[0ms\u001b[0m\u001b[1;33m[\u001b[0m\u001b[1;33m-\u001b[0m\u001b[1;36m100\u001b[0m\u001b[1;33m,\u001b[0m\u001b[1;36m100\u001b[0m\u001b[1;33m]\u001b[0m\u001b[1;33m\u001b[0m\u001b[0m\n\u001b[0m",
      "\u001b[1;31mTypeError\u001b[0m: string indices must be integers, not tuple"
     ]
    }
   ],
   "source": [
    "s = \"python\"\n",
    "print s[-100,100]"
   ]
  },
  {
   "cell_type": "markdown",
   "metadata": {},
   "source": [
    "에러가 발생한다. TypeError다. 에러내용을 살펴보면, 문자열은 튜플이 아닌 정수형으로 가르켜야한다고 나와있다. 에러메세지는 이렇게 나왔지만, 잘 이해가 안된다. 튜플이랑 상관없는 것 같다. 튜플과 리스트 관련 내용을 복습해보았는데, s[-100,100]과 같이 대괄호 안에 ,가 붙은 문법을 찾지 못했다. 아마도 문자열에서는 s[ , ]와 같은 형의 문법이 쓰이지 않는 것 같다."
   ]
  },
  {
   "cell_type": "markdown",
   "metadata": {},
   "source": [
    "---\n",
    "####s[1:-1]의 결과를 확인하고 그 결과에 대한 이유를 정확하게 설명하시오."
   ]
  },
  {
   "cell_type": "code",
   "execution_count": 8,
   "metadata": {
    "collapsed": false
   },
   "outputs": [
    {
     "name": "stdout",
     "output_type": "stream",
     "text": [
      "ytho\n"
     ]
    }
   ],
   "source": [
    "s = \"python\"\n",
    "print s[1:-1]"
   ]
  },
  {
   "cell_type": "markdown",
   "metadata": {},
   "source": [
    "Slicing에서 start값이 1이므로, y부터 출력한다. stop값은 -1 이다. -1이 가르키는 문자는 n인데, 그보다 인덱스 값이 하나 더 작은 문자 o까지 출력한다. 그러므로 y부터 o까지 순서대로 출력하는 결과로 ytho가 출력된다."
   ]
  },
  {
   "cell_type": "markdown",
   "metadata": {},
   "source": [
    "---\n",
    "####s[3:-3]의 결과를 확인하고 그 결과에 대한 이유를 정확하게 설명하시오."
   ]
  },
  {
   "cell_type": "code",
   "execution_count": 9,
   "metadata": {
    "collapsed": false
   },
   "outputs": [
    {
     "name": "stdout",
     "output_type": "stream",
     "text": [
      "\n"
     ]
    }
   ],
   "source": [
    "s = \"python\"\n",
    "print s[3:-3]"
   ]
  },
  {
   "cell_type": "markdown",
   "metadata": {},
   "source": [
    "Slicing에서 start값이 3이므로, h부터 출력한다. stop값은 -3 이다. -3이 가르키는 문자는 h인데, 그보다 인덱스 값이 하나 더 작은 문자 y까지 출력한다. 이때, h부터 그보다 인덱스가 작은 y까지 인덱스가 증가하면서 출력해야되는데, 그에 해당하는 문자가 없으므로 아무 것도 출력되지 않는다."
   ]
  },
  {
   "cell_type": "markdown",
   "metadata": {},
   "source": [
    "---\n",
    "###for문을 활용하여 1부터 100사이의 홀수를 출력하시오."
   ]
  },
  {
   "cell_type": "code",
   "execution_count": 10,
   "metadata": {
    "collapsed": false
   },
   "outputs": [
    {
     "name": "stdout",
     "output_type": "stream",
     "text": [
      "1 3 5 7 9 11 13 15 17 19 21 23 25 27 29 31 33 35 37 39 41 43 45 47 49 51 53 55 57 59 61 63 65 67 69 71 73 75 77 79 81 83 85 87 89 91 93 95 97 99\n"
     ]
    }
   ],
   "source": [
    "for x in range(1,101):\n",
    "    if x % 2 == 1:\n",
    "        print x,"
   ]
  },
  {
   "cell_type": "markdown",
   "metadata": {},
   "source": [
    "---\n",
    "###while문을 활용하여 1부터 100사이의 짝수의 합을 계산하여 출력하시오."
   ]
  },
  {
   "cell_type": "code",
   "execution_count": 12,
   "metadata": {
    "collapsed": false
   },
   "outputs": [
    {
     "name": "stdout",
     "output_type": "stream",
     "text": [
      "2550\n"
     ]
    }
   ],
   "source": [
    "sum = 0\n",
    "count = 1\n",
    "while count < 101:\n",
    "    if count % 2 == 0:\n",
    "        sum += count\n",
    "    count += 1\n",
    "print sum"
   ]
  },
  {
   "cell_type": "markdown",
   "metadata": {},
   "source": [
    "---\n",
    "###사용자로 부터 임의의 정수를 입력받고, 해당 숫자를 역순으로 출력하는 프로그램을 작성하시오.\n",
    "\n",
    "[실행 예]\n",
    "    \n",
    "    정수를 입력하세요: 3125\n",
    "    숫자 역순은 5213 입니다."
   ]
  },
  {
   "cell_type": "code",
   "execution_count": 1,
   "metadata": {
    "collapsed": false
   },
   "outputs": [
    {
     "name": "stdout",
     "output_type": "stream",
     "text": [
      "정수를 입력하세요: 45612\n",
      "숫자 역순은 21654 입니다.\n"
     ]
    }
   ],
   "source": [
    "# -*- coding: utf-8 -*-\n",
    "number = input(u\"정수를 입력하세요: \")\n",
    "number = str(number)\n",
    "print \"숫자 역순은\",number[::-1],\"입니다.\""
   ]
  },
  {
   "cell_type": "markdown",
   "metadata": {},
   "source": [
    "---\n",
    "###사용자로 부터 정수를 입력받아서 1부터 그 사이에 존재하는 소수 (Prime number)를 출력하는 파이썬 프로그램을 작성하시오."
   ]
  },
  {
   "cell_type": "code",
   "execution_count": 1,
   "metadata": {
    "collapsed": false
   },
   "outputs": [
    {
     "name": "stdout",
     "output_type": "stream",
     "text": [
      "정수를 입력하세요: 20\n",
      "2 3 5 7 11 13 17 19\n"
     ]
    }
   ],
   "source": [
    "# -*- coding: utf-8 -*-\n",
    "number = input(u\"정수를 입력하세요: \")\n",
    "count = 1\n",
    "\n",
    "def getPrime(number): #number가 소수이면 출력하는 함수\n",
    "    if count == 2:\n",
    "        print number,\n",
    "    for x in range(2,number):\n",
    "        if number % x == 0:\n",
    "            break\n",
    "        elif x == number - 1:\n",
    "            print number,\n",
    "            \n",
    "while count < number: #1부터 입력받은 수 사이의 모든 정수가 소수인지 판별하고 출력\n",
    "    getPrime(count)\n",
    "    count += 1"
   ]
  },
  {
   "cell_type": "markdown",
   "metadata": {},
   "source": [
    "코드설명: getPrime함수는 숫자(number)를 넣어주면, 그 수가 소수이면 그 수를 출력하는 함수이다. while문을 돌리면서 입력한 수 미만의 정수까지 getPrime에 넣어주어 1부터 그 사이에 존재하는 소수를 출력한다"
   ]
  },
  {
   "cell_type": "markdown",
   "metadata": {},
   "source": [
    "---\n",
    "###[프로젝트 오일러 문제 1]\n",
    "10보다 작은 자연수 중에서 3 또는 5의 배수는 3, 5, 6, 9 이고, 이것을 모두 더하면 23입니다.\n",
    "\n",
    "1000보다 작은 자연수 중에서 3 또는 5의 배수를 모두 더하면 얼마일까요?"
   ]
  },
  {
   "cell_type": "code",
   "execution_count": 2,
   "metadata": {
    "collapsed": false
   },
   "outputs": [
    {
     "name": "stdout",
     "output_type": "stream",
     "text": [
      "233168\n"
     ]
    }
   ],
   "source": [
    "sum = 0\n",
    "for x in range(1,1000):\n",
    "    if x % 3 == 0 and x % 5 == 0:\n",
    "        sum += x\n",
    "    elif x % 3 == 0:\n",
    "        sum += x\n",
    "    elif x % 5 == 0:\n",
    "        sum += x\n",
    "print sum"
   ]
  },
  {
   "cell_type": "markdown",
   "metadata": {},
   "source": [
    "---\n",
    "###[프로젝트 오일러 문제 2]\n",
    "피보나치 수열의 각 항은 바로 앞의 항 두 개를 더한 것이 됩니다. 1과 2로 시작하는 경우 이 수열은 아래와 같습니다.\n",
    "\n",
    "1, 2, 3, 5, 8, 13, 21, 34, 55, 89, ...\n",
    "짝수이면서 4백만 이하인 모든 항을 더하면 얼마가 됩니까?"
   ]
  },
  {
   "cell_type": "code",
   "execution_count": 3,
   "metadata": {
    "collapsed": false
   },
   "outputs": [
    {
     "name": "stdout",
     "output_type": "stream",
     "text": [
      "4613732\n"
     ]
    }
   ],
   "source": [
    "num1 = 1\n",
    "num2 = 2\n",
    "num3 = 0\n",
    "sum = 2\n",
    "while num3 < 4000000:\n",
    "    num3 = num1 + num2\n",
    "    if num3 % 2 == 0:\n",
    "        sum += num3\n",
    "    num1 = num2 \n",
    "    num2 = num3\n",
    "print sum"
   ]
  },
  {
   "cell_type": "markdown",
   "metadata": {},
   "source": [
    "num1, num2가 앞의 2개의 항이고, num3가 num1과 num2를 더한 항이다. while문을 돌면서, num3가 짝 수이면, 총 합 sum에 더한다."
   ]
  },
  {
   "cell_type": "markdown",
   "metadata": {},
   "source": [
    "---\n",
    "###[프로젝트 오일러 문제 3]\n",
    "어떤 수를 소수의 곱으로만 나타내는 것을 소인수분해라 하고, 이 소수들을 그 수의 소인수라고 합니다.\n",
    "예를 들면 13195의 소인수는 5, 7, 13, 29 입니다.\n",
    "\n",
    "600851475143의 소인수 중에서 가장 큰 수를 구하세요."
   ]
  },
  {
   "cell_type": "code",
   "execution_count": 6,
   "metadata": {
    "collapsed": false
   },
   "outputs": [
    {
     "name": "stdout",
     "output_type": "stream",
     "text": [
      "6857\n"
     ]
    }
   ],
   "source": [
    "n = 1\n",
    "x = 600851475143 \n",
    "\n",
    "def getPrime(number): #number가 소수이면 리턴하는 함수\n",
    "    if number == 2:\n",
    "        return number\n",
    "    for x in range(2,number):\n",
    "        if number % x == 0:\n",
    "            break\n",
    "        elif x == number - 1:\n",
    "            return number\n",
    "            \n",
    "while n <= x: #제일 작은 소수 2부터 점점 큰 소수로 나눈다.\n",
    "    if x == n: #나누는 소수와 나누려는 수가 같아지는 순간. 즉, 소인수분해가 완료되고, n이 소인수중 가장 큰 소수이다.\n",
    "        print n\n",
    "        break\n",
    "    elif x % n == 0 and getPrime(n) != None: #n이 나누어지는 소수이면 나눠준다.\n",
    "        x /= n\n",
    "    else: #더 이상 나눌 수 없게되면, n에 1을 더해준다.\n",
    "        n += 1"
   ]
  },
  {
   "cell_type": "markdown",
   "metadata": {},
   "source": [
    "getPrime(number) 함수는 인자가 소수이면 리턴하는 함수이다. 기본원리는 주어진 수를 제일 작은 소수인 2부터 나눠떨어지도록 나눈다. 2로 나눠떨어지지 않으면 그보다 큰 소수인 3으로 나눈다. 이와 같이 점점 큰 소수로 나누다보면, 나누는 소수와 나누려는 수가 같아지는 순간이 온다. 즉, 소인수분해가 완료된 것이고, 작은 소인수부터 계속 나누기 시작했으므로 그 순간 나누려는 수가 소인수 중에서 가장 큰 수이다. 이 계산하는 과정을 while문에 구현하여 답을 출력한다.  "
   ]
  },
  {
   "cell_type": "markdown",
   "metadata": {},
   "source": [
    "---\n",
    "###소감\n",
    "한마디로 표현하자면 과제를 마친 지금 이 순간, 힘들었지만 뿌듯하다. 깃허브, 소스트리, 마크다운의 사용법을 익히는데 생각보다 오랜시간이 걸렸다. 하지만 사용법을 익히면서 이런 좋은 것들이 있었는데 아직도 사용하지 못했다는 사실이 부끄러웠다. 항상 최신기술에 민감하게 관심을 가져야겠다고 다짐했다. 앞으로 수업을 진행하면서 최신기술 동향과 에디터나 툴들을 좀더 많이 소개해주시고, 스스로 찾을 수 있는 좋은 루트가 있으면 알려주셨으면 좋을 것 같다.\n",
    "\n",
    "파이썬으로 처음 코딩을 하면서 느낀 점은 다른 언어에 비해서 간단한 코드들을 바로바로 확인할 수 있다는 점이 좋았다. 그리고 형변환도 자동으로 해주기 때문에, 다른 언어에 비해서 간단하고, 쉽게 느껴졌다. \n",
    "\n",
    "오일러 문제를 풀면서는 생각을 많이 해보게 되었다. 학년이 올라가면서 학생들 사이에 실력이 점점 더 많이 차이나는 것 같다. 나는 다른 학생들에 비해서 코딩실력이 많이 부족하다. 이번 학기부터 혼자 힘으로 생각하면서 공부하기로 마음 먹었다. 이번에 오일러 문제를 혼자 생각하면서 답을 맞췄을 때는 정말 쾌감을 느꼈다. 이런 코딩의 기본적인 방법을 익히는 것 말고, 생각하고 진짜 코딩실력을 늘릴 수 있는 문제도 같이 풀 수 있어서 좋았다. \n",
    "\n",
    "---"
   ]
  }
 ],
 "metadata": {
  "kernelspec": {
   "display_name": "Python 2",
   "language": "python",
   "name": "python2"
  },
  "language_info": {
   "codemirror_mode": {
    "name": "ipython",
    "version": 2
   },
   "file_extension": ".py",
   "mimetype": "text/x-python",
   "name": "python",
   "nbconvert_exporter": "python",
   "pygments_lexer": "ipython2",
   "version": "2.7.9"
  }
 },
 "nbformat": 4,
 "nbformat_minor": 0
}
