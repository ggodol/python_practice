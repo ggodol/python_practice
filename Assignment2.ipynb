{
 "cells": [
  {
   "cell_type": "markdown",
   "metadata": {},
   "source": [
    "#Assignment 2"
   ]
  },
  {
   "cell_type": "markdown",
   "metadata": {},
   "source": [
    "---\n",
    "###다음 6 개의 Expression에 대해 Evaluation 결과 값을 출력하고, 해당 결과가 나온 이유에 대해 설명하시오"
   ]
  },
  {
   "cell_type": "markdown",
   "metadata": {},
   "source": [
    "- 1 and 2 and 3 and 4\n",
    "- 1 or 2 or 3 or 4\n",
    "- 1 and 2 or 3 and 4\n",
    "- (1 and 2) or (3 and 4)\n",
    "- 1 or 2 and 3 or 4\n",
    "- (1 or 2) and (3 or 4)"
   ]
  },
  {
   "cell_type": "code",
   "execution_count": 2,
   "metadata": {
    "collapsed": false
   },
   "outputs": [
    {
     "name": "stdout",
     "output_type": "stream",
     "text": [
      "4\n"
     ]
    }
   ],
   "source": [
    "print 1 and 2 and 3 and 4"
   ]
  },
  {
   "cell_type": "markdown",
   "metadata": {},
   "source": [
    "and 연산자에서 x and y에서 x,y가 모두 참이어야 참이다. 그러므로 x가 참인지 확인 후, and 뒤에있는 y도 참인지 확인을 해봐야한다. 위에 Expression도 마찬가지로 생각해보면, 1 and 2에서 1은 참이므로 2가 참인지 확인해야한다. 2가 참이므로 and 뒤에 있는 3이 참인지 확인한다. 마찬가지로 쭉 확인하다 보면 4가 참인 것까지 확인함으로 최종적으로 4가 출력된다. "
   ]
  },
  {
   "cell_type": "code",
   "execution_count": 3,
   "metadata": {
    "collapsed": false
   },
   "outputs": [
    {
     "name": "stdout",
     "output_type": "stream",
     "text": [
      "1\n"
     ]
    }
   ],
   "source": [
    "print 1 or 2 or 3 or 4"
   ]
  },
  {
   "cell_type": "markdown",
   "metadata": {},
   "source": [
    "or 연산자에서 x or y에서 x,y중 하나만 참이면 참이다. 맨 앞에있는 1은 참이다. or 연산자를 만나는 순간, 뒤에 값이 어떤 값이든지 참이되므로 더이상 연산하지 않고 1을 출력하게 된다."
   ]
  },
  {
   "cell_type": "code",
   "execution_count": 4,
   "metadata": {
    "collapsed": false
   },
   "outputs": [
    {
     "name": "stdout",
     "output_type": "stream",
     "text": [
      "2\n"
     ]
    }
   ],
   "source": [
    "print 1 and 2 or 3 and 4"
   ]
  },
  {
   "cell_type": "markdown",
   "metadata": {},
   "source": [
    "and 연산자가 or 연산자보다 연산순위가 높다. and 연산자를 먼저 수행하면 1 and 2 에선 참으로 2가 3 and 4에선 참으로 4가 나오게된다. 그 후 or 연산을 하면, 앞에 2가 참이므로 뒤에 값은 확인하지도 않는다. 그러므로 2를 출력하게 된다."
   ]
  },
  {
   "cell_type": "code",
   "execution_count": 5,
   "metadata": {
    "collapsed": false,
    "scrolled": true
   },
   "outputs": [
    {
     "name": "stdout",
     "output_type": "stream",
     "text": [
      "2\n"
     ]
    }
   ],
   "source": [
    "print (1 and 2) or (3 and 4)"
   ]
  },
  {
   "cell_type": "markdown",
   "metadata": {},
   "source": [
    "()괄호 안에 있는 연산을 먼저 수행한다. (1 and 2)에서는 2가, (3 and 4)에선 4가 참값으로 나온다. 그럼 결국엔 2 or 4인데, 2가 참이므로 or의 특성상 2가 출력된다."
   ]
  },
  {
   "cell_type": "code",
   "execution_count": 6,
   "metadata": {
    "collapsed": false
   },
   "outputs": [
    {
     "name": "stdout",
     "output_type": "stream",
     "text": [
      "1\n"
     ]
    }
   ],
   "source": [
    "print 1 or 2 and 3 or 4"
   ]
  },
  {
   "cell_type": "markdown",
   "metadata": {},
   "source": [
    "and 연산자가 먼저 수행된다. 2 and 3은 3이 참값으로 나온다. 결국, 1 or 3 or 4인데 or연산 특성상 참값으로 1이 출력되고 뒤는 연산하지도 않는다."
   ]
  },
  {
   "cell_type": "code",
   "execution_count": 7,
   "metadata": {
    "collapsed": false
   },
   "outputs": [
    {
     "name": "stdout",
     "output_type": "stream",
     "text": [
      "3\n"
     ]
    }
   ],
   "source": [
    "print (1 or 2) and (3 or 4)"
   ]
  },
  {
   "cell_type": "markdown",
   "metadata": {},
   "source": [
    "()안이 먼저 수행된다. (1 or 2)에선 1이 (3 or 4)에서는 3이 참값으로 나온다. 결국 1 and 3이 최종적인 연산인데 and 특성에 따라 뒤에 참값인 3이 출력된다."
   ]
  },
  {
   "cell_type": "markdown",
   "metadata": {},
   "source": [
    "---\n",
    "###키보드로 정수값을 입력 받고 그 값이 양수인지 음수인지를 비트 연산자를 이용하여 판단하는 프로그램을 작성하시오."
   ]
  },
  {
   "cell_type": "markdown",
   "metadata": {},
   "source": [
    "- [참고] 가장 왼쪽에 있는 비트가 0이면 양수이며, 1이면 음수이다.\n",
    "- [참고] 수업보충자료 (https://github.com/bluebibi/python-e-learning/blob/master/supplement.ipynb) 를 참고하시오."
   ]
  },
  {
   "cell_type": "code",
   "execution_count": 11,
   "metadata": {
    "collapsed": false
   },
   "outputs": [
    {
     "name": "stdout",
     "output_type": "stream",
     "text": [
      "정수를 입력하세요: -5\n",
      "-5\n",
      "음수 입니다.\n"
     ]
    }
   ],
   "source": [
    "number = input(u\"정수를 입력하세요: \")\n",
    "print number\n",
    "if (number == 0):\n",
    "    print \"0 입니다.\"\n",
    "elif((128 & number) == 128): #number에서 맨앞의 bit만 추출하여 1인지 0인지 판별\n",
    "    print \"음수 입니다.\"\n",
    "else:\n",
    "    print \"양수 입니다.\""
   ]
  },
  {
   "cell_type": "markdown",
   "metadata": {},
   "source": [
    "---\n",
    "###경로에 해당하는 문자열 1개를 입력 받아 그 안에 디렉토리 경로명과 파일명을 분리하여 리스트로 반환하는 함수 div_path(s)를 작성하시오."
   ]
  },
  {
   "cell_type": "markdown",
   "metadata": {},
   "source": [
    "- 인자로 전달하는 문자열은 경로만 들어간다고 가정한다.\n",
    "- 각 디렉토리와 파일을 구분하는 문자는 '/'로 가정한다.\n",
    "- 반환하는 리스트의 첫번째 원소는 디렉토리이고 두번째 원소는 파일명이다.\n",
    "- 다음과 같은 실행 및 출력 결과가 도출되어야 한다.\n",
    "    - div_path('/usr/local/bin/python')\n",
    "        - ['/usr/local/bin', 'python']\n",
    "    - div_path('/home/chulsoo/test.txt')\n",
    "        - ['/home/chulsoo', 'test.txt']\n",
    "- [참고] 리스트(l) 내에 새로운 정수값 (예를 들어 10)을 넣는 방법은 l.append(10) 이다."
   ]
  },
  {
   "cell_type": "code",
   "execution_count": 12,
   "metadata": {
    "collapsed": false
   },
   "outputs": [
    {
     "name": "stdout",
     "output_type": "stream",
     "text": [
      "['/usr/local/bin', 'python']\n"
     ]
    }
   ],
   "source": [
    "a = '/usr/local/bin/python'\n",
    "\n",
    "def div_path(str):\n",
    "    temp = str.split('/')\n",
    "    a=''\n",
    "    \n",
    "    for x in temp[1:-1]: #마지막 파일명을 제외한 디렉토리 경로들을 하나의 문자열로 만든다.\n",
    "        a = a+'/'+x  \n",
    "    \n",
    "    return [a,temp[-1]]\n",
    "    \n",
    "print div_path(a)"
   ]
  },
  {
   "cell_type": "markdown",
   "metadata": {},
   "source": [
    "인자로 들어온 경로를 처음에 split('/')을 이용하여 /를 기준으로 문자열을 쪼개서 리스트에 저장한다. 리스트에서 마지막 파일명을 제외한 경로를 for문으로 문자열을 만들어준다. 마지막으로 경로가 저장되어있는 문자열과 파일명을 저장하는 리스트를 리턴한다."
   ]
  },
  {
   "cell_type": "markdown",
   "metadata": {},
   "source": [
    "---\n",
    "###두 개의 리스트를 인자로 받아서 그 두 개의 리스트에 대한 '합집합'을 반환하는 함수 list_union(lista, listb)를 작성하시오."
   ]
  },
  {
   "cell_type": "markdown",
   "metadata": {},
   "source": [
    "- 인자로 전달하는 리스트 2 개에는 정수값만 들어간다고 가정하자.\n",
    "- 함수 내에서 새로운 리스트를 만들어 그 리스트 내에 인자로 받은 두 리스트의 모든 원소를 넣어 반환한다.\n",
    "- 반환하는 리스트에는 절대로 중복된 원소가 들어 있으면 안된다 (집합의 조건).\n",
    "- 반환하는 리스트는 정렬이 되어 있어야 한다.\n",
    "- 다음과 같은 실행 및 출력 결과가 도출되어야 한다.\n",
    "    - list_union([1, 2, 3], [1, 2, 4])\n",
    "        - [1, 2, 3, 4]\n",
    "    - list_union([-10, -5, 0, -1], [100, 9, 0, 9])\n",
    "        - [-10, -5, -1, 0, 9, 100]\n",
    "    - list_union([0, 1, 2], [0, 1, 2])\n",
    "        - [0, 1, 2]\n",
    "- [참고] 리스트(l) 내에 새로운 정수값 (예를 들어 10)을 넣는 방법은 l.append(10) 이다.\n",
    "- [참고] 임의의 정수값 (x)이 리스트 (l) 내에 존재하는지 판단하는 방법은 x in l 이다."
   ]
  },
  {
   "cell_type": "code",
   "execution_count": 13,
   "metadata": {
    "collapsed": false
   },
   "outputs": [
    {
     "name": "stdout",
     "output_type": "stream",
     "text": [
      "[-10, -5, -1, 0, 9, 10, 100]\n"
     ]
    }
   ],
   "source": [
    "a = [-10,-5,0,-1,9]\n",
    "b = [100,9,0,10]\n",
    "\n",
    "def list_union(a,b):\n",
    "    union=[]\n",
    "    temp = a + b #a와 b의 리스트를 받아 합친다\n",
    "    \n",
    "    for x in temp: #a와 b로 합쳐진 리스트에서 중복되지 않는다면 하나씩 꺼내서 리스트에 저장\n",
    "        if (x not in union):\n",
    "            union.append(x)\n",
    "               \n",
    "    union.sort() #합집합을 정렬함\n",
    "    \n",
    "    return union\n",
    "\n",
    "print list_union(a,b)"
   ]
  },
  {
   "cell_type": "markdown",
   "metadata": {},
   "source": [
    "처음에 인자로 받은 두 개의 리스트를 하나의 리스트에 합친다. 합쳐진 리스트에서 하나씩 꺼내서 중복되지 않는다면 합집합 리스트에 하나씩 집어넣는다. 중복된 원소가 없이 합집합 원소가 모인 리스트를 sort를 이용하여 정리하여 리턴해준다."
   ]
  },
  {
   "cell_type": "markdown",
   "metadata": {},
   "source": [
    "---\n",
    "###[프로젝트 오일러 문제 4]\n",
    "앞에서부터 읽을 때나 뒤에서부터 읽을 때나 모양이 같은 수를 대칭수(palindrome)라고 부릅니다.\n",
    "\n",
    "두 자리 수를 곱해 만들 수 있는 대칭수 중 가장 큰 수는 9009 (= 91 × 99) 입니다.\n",
    "\n",
    "세 자리 수를 곱해 만들 수 있는 가장 큰 대칭수는 얼마입니까?"
   ]
  },
  {
   "cell_type": "code",
   "execution_count": 1,
   "metadata": {
    "collapsed": false
   },
   "outputs": [
    {
     "name": "stdout",
     "output_type": "stream",
     "text": [
      "906609\n"
     ]
    }
   ],
   "source": [
    "max_num = 0\n",
    "\n",
    "def Ispalindrome(num): #대칭수인지 판별하는 함수\n",
    "    s = str(num)\n",
    "    for x in range(len(s)/2):\n",
    "        if(s[x]!=s[-1-x]):\n",
    "            return False\n",
    "    return True\n",
    "\n",
    "for a in range(100,1000): #세자리 수 곱을 모두 수행하여 가장 큰 대칭수를 찾아내는 for문\n",
    "    for b in range(100,1000):\n",
    "        num = a*b\n",
    "        if(Ispalindrome(num) and num>max_num):\n",
    "            max_num = num\n",
    "\n",
    "print max_num"
   ]
  },
  {
   "cell_type": "markdown",
   "metadata": {},
   "source": [
    "Ispalindrome은 어떤 수를 넣었을 때, 들어온 수가 대칭수인지 판별하여 참,거짓을 반환하는 함수이다. 판별하는 방법은 들어온 수를 문자열로 바꾼 후, 첫글자와 마지막글자가 같은지 하나씩 체크해보는 것이다. \n",
    "\n",
    "아래의 for문은 세자리 숫자의 곱을 다해보면서 가장 큰 대칭수를 찾는다. 세자리 숫자를 다 곱하는 과정에서 그 수(num)가 대칭수(Ispalindrome)이면서 기존에 큰 대칭수(max_num)보다 크면, 큰 대칭수(max_num)에 넣는 방식으로 코드를 작성했다. "
   ]
  },
  {
   "cell_type": "markdown",
   "metadata": {},
   "source": [
    "---\n",
    "###[프로젝트 오일러 문제 5]\n",
    "1 ~ 10 사이의 어떤 수로도 나누어 떨어지는 가장 작은 수는 2520입니다.\n",
    "\n",
    "그러면 1 ~ 20 사이의 어떤 수로도 나누어 떨어지는 가장 작은 수는 얼마입니까?"
   ]
  },
  {
   "cell_type": "code",
   "execution_count": 1,
   "metadata": {
    "collapsed": false
   },
   "outputs": [
    {
     "name": "stdout",
     "output_type": "stream",
     "text": [
      "232792560\n"
     ]
    }
   ],
   "source": [
    "num = 20\n",
    "result = num\n",
    "i = num\n",
    "\n",
    "while i>1:\n",
    "    if(result%i == 0):\n",
    "        i -= 1\n",
    "    else:\n",
    "        result += 1\n",
    "        i = num\n",
    "    \n",
    "print result"
   ]
  },
  {
   "cell_type": "markdown",
   "metadata": {},
   "source": [
    "주어진 수부터 1까지 계속 나눠보면서 찾는 방법으로 코드를 짰다. 초기에 나누는 수(i)는 주어진 주(num)와 같은 20으로 주었다. 주어진 수(num)를 20부터 1까지 쭉 나누다가 나눌 수 없으면 찾아야하는 값(result)에 1을 더 하여 20부터 다시 나눠본다. 이렇게해서 1씩 증가해서 계속 나누다보면, 처음 다 나눠지는 수가 모든 수를 나눌 수 있는 최소의 값이 나오게된다."
   ]
  },
  {
   "cell_type": "markdown",
   "metadata": {},
   "source": [
    "---\n",
    "###[프로젝트 오일러 문제 6]\n",
    "1부터 10까지 자연수를 각각 제곱해 더하면 다음과 같습니다 (제곱의 합).\n",
    "\n",
    "1^2 + 2^2 + ... + 10^2 = 385\n",
    "\n",
    "1부터 10을 먼저 더한 다음에 그 결과를 제곱하면 다음과 같습니다 (합의 제곱).\n",
    "\n",
    "(1 + 2 + ... + 10)^2 = 552 = 3025\n",
    "\n",
    "따라서 1부터 10까지 자연수에 대해 \"합의 제곱\"과 \"제곱의 합\" 의 차이는 3025 - 385 = 2640 이 됩니다.\n",
    "\n",
    "그러면 1부터 100까지 자연수에 대해 \"합의 제곱\"과 \"제곱의 합\"의 차이는 얼마입니까?"
   ]
  },
  {
   "cell_type": "code",
   "execution_count": 2,
   "metadata": {
    "collapsed": false
   },
   "outputs": [
    {
     "name": "stdout",
     "output_type": "stream",
     "text": [
      "25164150\n"
     ]
    }
   ],
   "source": [
    "num = 100\n",
    "\n",
    "def sum_of_the_square(num): #제곱의 합을 구하는 함수\n",
    "    sum = 0\n",
    "    for x in range(1,num+1):\n",
    "        sum += pow(x,2)\n",
    "    return sum\n",
    "    \n",
    "def square_of_the_sum(num): #합의 제곱을 구하는 함수\n",
    "    sum = 0\n",
    "    for x in range(1,num+1):\n",
    "        sum += x\n",
    "    result = pow(sum,2)\n",
    "    return result\n",
    "        \n",
    "print square_of_the_sum(num) - sum_of_the_square(num)"
   ]
  },
  {
   "cell_type": "markdown",
   "metadata": {},
   "source": [
    "제곱의 합을 구하는 함수와 합의 제곱을 구하는 함수를 구현했다. 그 후 각 함수에 값을 넣어서 빼주면 원하는 결과를 얻을 수 있다. "
   ]
  },
  {
   "cell_type": "markdown",
   "metadata": {},
   "source": [
    "---\n",
    "###[Incremental Project] 웹 URL로 지정된 웹페이지를 문자열로 가져와 1) 모든 HTML 태그를 제외한 순수 텍스트 문자열만을 걸러내고, 2) 그 순수 텍스트 문자열 안에 존재하는 단어가 총 몇개인지 출력하는 프로그램을 작성하시오."
   ]
  },
  {
   "cell_type": "markdown",
   "metadata": {},
   "source": [
    "- HTML 태그는 다음 조건을 가지는 것이다.\n",
    "    - < 로 시작하여 >로 끝난다.\n",
    "    - 예를 들어, 아래와 같은 HTML 내용 내에 한 줄이 있다고 가정하자.\n",
    "    '<label for=\"keep_signed\">로그인 유지</label>'\n",
    "    - 위 소스에서 HTML 태그를 제외한 순수 텍스트 문자열은 아래와 같다.\n",
    "      '로그인 유지'\n",
    "    - 한편, 아래와 같은 HTML 한 줄이 있다고 가정하자.\n",
    "       '<link rel=\"stylesheet\" href=\"/common/css/xe.min.css?20150910092654\" />'\n",
    "    - 위 소스는 HTML 태그로만 구성된 것이며 걸러낼 수 있는 순수 텍스 문자열은 존재하지 않는다.\n",
    "- 단어를 나누는 기준은 오로지 공백문자 (whitespace)이다.\n",
    "    - 즉, 위 순수 텍스트 문자열인 \"로그인 유지\"에서 분리한 단어는 \"로그인\"과 \"유지\"이다.\n",
    "- 다음은 URL로 지정된 웹페이지를 특정 문자열로 가져오는 코드이다.\n",
    "    - 즉, 숙제 코드는 아래 코드로 부터 시작해야 한다."
   ]
  },
  {
   "cell_type": "code",
   "execution_count": 1,
   "metadata": {
    "collapsed": false
   },
   "outputs": [
    {
     "name": "stdout",
     "output_type": "stream",
     "text": [
      "460\n"
     ]
    }
   ],
   "source": [
    "import urllib2\n",
    "\n",
    "source = urllib2.urlopen(\"http://cse.kut.ac.kr/\").read()\n",
    "string=''\n",
    "\n",
    "a = source.split('<') #<를 기준으로 split한다.\n",
    "\n",
    "for x in a[1:]: #a 리스트에 있는 문자열 하나하나를 >를 split한다. 그리고 그 순수 텍스트만 추출한다.\n",
    "    temp=x.split('>')\n",
    "    if(len(temp) > 1):\n",
    "        string = string+temp[1]+' ' #추출된 순수 텍스트를 string에 슬라이싱으로 이어붙힌다.\n",
    "        \n",
    "result = string.split() #result 리스트에 string 문자열에서 공백을 제외한 텍스트를 저장한다.\n",
    "\n",
    "print len(result)"
   ]
  },
  {
   "cell_type": "markdown",
   "metadata": {},
   "source": [
    "split을 이용하여 <를 기준으로 리스트를 생성한다. 생성된 리스트 a에는 >를 포함한 문자열이 저장된다. 예를들면, 위 문제에 나와있는 html내용을 split('<')하게 되면, a에는 ['label for=\"keep_signed\">로그인 유지','/label>']로 저장된다. for문으로 리스트 a에 있는 문자열을 '>'로 split한다. 리스트 a에서 첫 번째 문자열을 예를들면 temp=['label for=\"keep_signed\"','로그인 유지']가 나오게된다. if문을 통해서 temp 리스트에 내용이 2개 이상 들어있으면 뒤에 있는 것이 순수한 텍스트이므로 추출한다. \n",
    "\n",
    "if(len(temp) > 1)를 하는 이유는 주석태그를 사용했을 때, 주석 안에 태그가 또 존재하면, '>'가 없어서 하나의 값만 가지는 temp리스트가 나오기 때문이다. 여기서 나온 temp리스트의 문자열 값은 항상 순수한 텍스트가 아니므로 제외했다.\n",
    "\n",
    "string에 공백으로 구분하여 추출된 순수텍스트를 모두 저장한다. 그리고 result라는 리스트에 공백을 제외한 텍스트를 저장한다. 그러면 순수 텍스트의 단어들이 result에 저장된다.\n",
    "\n",
    "최종적으로 len(result)를 통해서 순수 텍스트 문자열에 존재하는 단어가 총 몇개인지 출력할 수 있다."
   ]
  },
  {
   "cell_type": "markdown",
   "metadata": {},
   "source": [
    "---\n",
    "###소감\n",
    "많은 생각을하게 한 과제였다. 앞 문제들은 배운 내용들을 복습하는 좋은 문제였다. 오일러 문제도 단순히 기능적인 것을 짜는 것이아니라 생각을 해볼 수 있는 문제들이라서 좋았다. 가장 어려웠던 것은 Incremental Project였다.\n",
    "\n",
    "Incremental Project를 진행하면서 기본적으로 태그에 대한 개념이 부족하여 많이 어려웠다. 단순히 <>만 제거하고, 그 외에 문자열만 뽑아내면 된다고 생각했다. 그러나 실제로 컴퓨터공학홈페이지를 source로 받아 실행했을 때는 에러가 발생하였다. 주석태그 안에 태그가 있는 경우를 처리하지 못했기 때문이다. 많은 고민 끝에 그 문제를 해결할 수 있었다. 그러나 실제로 제대로 했는지 하나하나 세보려 했으나 양이 너무 많고 HTML이 헷갈려서 하지 못했다. \n",
    "\n",
    "수업시간에 Incremental Project에 대한 해설을 해주셨으면 한다. 주석태그 안에 태그가 있는 경우를 어떻게 처리해야하는지. 그리고 어떤 코드가 정확한 답인지 궁금해졌다.\n",
    "\n",
    "---"
   ]
  }
 ],
 "metadata": {
  "kernelspec": {
   "display_name": "Python 2",
   "language": "python",
   "name": "python2"
  },
  "language_info": {
   "codemirror_mode": {
    "name": "ipython",
    "version": 2
   },
   "file_extension": ".py",
   "mimetype": "text/x-python",
   "name": "python",
   "nbconvert_exporter": "python",
   "pygments_lexer": "ipython2",
   "version": "2.7.9"
  }
 },
 "nbformat": 4,
 "nbformat_minor": 0
}
